{
 "cells": [
  {
   "cell_type": "code",
   "execution_count": null,
   "metadata": {},
   "outputs": [],
   "source": [
    "#!pip install requests-html requests"
   ]
  },
  {
   "cell_type": "code",
   "execution_count": 1,
   "metadata": {},
   "outputs": [],
   "source": [
    "import requests\n",
    "from requests_html import HTML\n",
    "import matplotlib\n",
    "import pandas as pd\n",
    "import time"
   ]
  },
  {
   "cell_type": "code",
   "execution_count": 2,
   "metadata": {},
   "outputs": [],
   "source": [
    "def clean_scrapped_data(text, keyname=None):\n",
    "    if keyname == 'tags':\n",
    "        return text.replace('\\n','-')\n",
    "    return text"
   ]
  },
  {
   "cell_type": "code",
   "execution_count": 3,
   "metadata": {},
   "outputs": [],
   "source": [
    "def parse_tagged_page(html):\n",
    "    question_summaries = html.find(\".s-post-summary\")\n",
    "    key_names = ['questions', 'stats', 'tags']\n",
    "    classes_needed = [\".s-link\", \".s-post-summary--stats-item-number\", \".ml0\"]\n",
    "    key_stats = ['votes', 'answers', 'views']\n",
    "\n",
    "    datas = []\n",
    "\n",
    "    for q_el in question_summaries:\n",
    "        question_data = {}\n",
    "    \n",
    "        for i, _class in enumerate(classes_needed):\n",
    "        \n",
    "            if _class == '.s-post-summary--stats-item-number':\n",
    "                for j in range(3):\n",
    "    #sub_el = this_questions_element.find('.s-post-summary--stats-item-number')[j].text  \n",
    "                    question_data[key_stats[j]] = q_el.find('.s-post-summary--stats-item-number')[j].text \n",
    "            #question_data[key_stats[1]] = sub_el[1]\n",
    "            #question_data[key_stats[2]] = sub_el[2]\n",
    "\n",
    "            else:\n",
    "                sub_el = q_el.find(_class, first=True)\n",
    "        #print(sub_el.text)\n",
    "                keyname = key_names[i]\n",
    "                question_data[keyname] = clean_scrapped_data(sub_el.text, keyname=keyname)\n",
    "    \n",
    "        datas.append(question_data)\n",
    "\n",
    "    return datas    "
   ]
  },
  {
   "cell_type": "code",
   "execution_count": 4,
   "metadata": {},
   "outputs": [],
   "source": [
    "def extract_data_from_url(url):\n",
    "    r = requests.get(url)\n",
    "    if r.status_code not in range(200,299):\n",
    "        return []\n",
    "    html_str = r.text\n",
    "    html = HTML(html=html_str)\n",
    "    datas = parse_tagged_page(html)\n",
    "\n",
    "    return datas"
   ]
  },
  {
   "cell_type": "code",
   "execution_count": 5,
   "metadata": {},
   "outputs": [],
   "source": [
    "def scrape_tag(tag = 'python', query_filter = \"Votes\", page_size=25, max_pages=50):\n",
    "\n",
    "    base_url = 'https://stackoverflow.com/questions/tagged/'\n",
    "    datas = []\n",
    "    for p in range(max_pages):\n",
    "        page_num = p + 1\n",
    "        url = f\"{base_url}{tag}?tab={query_filter}&page{page_num}&pagesize={page_size}\"\n",
    "        datas += extract_data_from_url(url)\n",
    "        time.sleep(1.5)\n",
    "\n",
    "    return datas"
   ]
  },
  {
   "cell_type": "code",
   "execution_count": 6,
   "metadata": {},
   "outputs": [],
   "source": [
    "datas = scrape_tag(tag='python')"
   ]
  },
  {
   "cell_type": "code",
   "execution_count": 7,
   "metadata": {},
   "outputs": [
    {
     "data": {
      "text/plain": [
       "2500"
      ]
     },
     "execution_count": 7,
     "metadata": {},
     "output_type": "execute_result"
    }
   ],
   "source": [
    "len(datas)"
   ]
  },
  {
   "cell_type": "code",
   "execution_count": 8,
   "metadata": {},
   "outputs": [
    {
     "data": {
      "text/html": [
       "<div>\n",
       "<style scoped>\n",
       "    .dataframe tbody tr th:only-of-type {\n",
       "        vertical-align: middle;\n",
       "    }\n",
       "\n",
       "    .dataframe tbody tr th {\n",
       "        vertical-align: top;\n",
       "    }\n",
       "\n",
       "    .dataframe thead th {\n",
       "        text-align: right;\n",
       "    }\n",
       "</style>\n",
       "<table border=\"1\" class=\"dataframe\">\n",
       "  <thead>\n",
       "    <tr style=\"text-align: right;\">\n",
       "      <th></th>\n",
       "      <th>questions</th>\n",
       "      <th>votes</th>\n",
       "      <th>answers</th>\n",
       "      <th>views</th>\n",
       "      <th>tags</th>\n",
       "    </tr>\n",
       "  </thead>\n",
       "  <tbody>\n",
       "    <tr>\n",
       "      <th>0</th>\n",
       "      <td>What does the \"yield\" keyword do in Python?</td>\n",
       "      <td>12528</td>\n",
       "      <td>51</td>\n",
       "      <td>3.2m</td>\n",
       "      <td>python-iterator-generator</td>\n",
       "    </tr>\n",
       "    <tr>\n",
       "      <th>1</th>\n",
       "      <td>What does if __name__ == \"__main__\": do?</td>\n",
       "      <td>7948</td>\n",
       "      <td>45</td>\n",
       "      <td>4.4m</td>\n",
       "      <td>python-namespaces-program-entry-point-python-m...</td>\n",
       "    </tr>\n",
       "    <tr>\n",
       "      <th>2</th>\n",
       "      <td>Does Python have a ternary conditional operator?</td>\n",
       "      <td>7660</td>\n",
       "      <td>31</td>\n",
       "      <td>2.7m</td>\n",
       "      <td>python-operators-conditional-operator</td>\n",
       "    </tr>\n",
       "    <tr>\n",
       "      <th>3</th>\n",
       "      <td>What are metaclasses in Python?</td>\n",
       "      <td>7149</td>\n",
       "      <td>25</td>\n",
       "      <td>1.1m</td>\n",
       "      <td>python-oop-metaclass-python-class-python-datam...</td>\n",
       "    </tr>\n",
       "    <tr>\n",
       "      <th>4</th>\n",
       "      <td>How do I check whether a file exists without e...</td>\n",
       "      <td>6922</td>\n",
       "      <td>40</td>\n",
       "      <td>5.1m</td>\n",
       "      <td>python-file-file-exists</td>\n",
       "    </tr>\n",
       "  </tbody>\n",
       "</table>\n",
       "</div>"
      ],
      "text/plain": [
       "                                           questions  votes answers views  \\\n",
       "0        What does the \"yield\" keyword do in Python?  12528      51  3.2m   \n",
       "1           What does if __name__ == \"__main__\": do?   7948      45  4.4m   \n",
       "2   Does Python have a ternary conditional operator?   7660      31  2.7m   \n",
       "3                    What are metaclasses in Python?   7149      25  1.1m   \n",
       "4  How do I check whether a file exists without e...   6922      40  5.1m   \n",
       "\n",
       "                                                tags  \n",
       "0                          python-iterator-generator  \n",
       "1  python-namespaces-program-entry-point-python-m...  \n",
       "2              python-operators-conditional-operator  \n",
       "3  python-oop-metaclass-python-class-python-datam...  \n",
       "4                            python-file-file-exists  "
      ]
     },
     "execution_count": 8,
     "metadata": {},
     "output_type": "execute_result"
    }
   ],
   "source": [
    "df = pd.DataFrame(datas)\n",
    "df.head()"
   ]
  },
  {
   "cell_type": "code",
   "execution_count": 9,
   "metadata": {},
   "outputs": [],
   "source": [
    "df.to_csv('Stackoverflow-Python.csv', index=False)"
   ]
  },
  {
   "cell_type": "markdown",
   "metadata": {},
   "source": [
    "### Resources:\n",
    "\n",
    "This projects was inspired by the 30 Days of Python - Day 22 challenges correcting the code to the Stackoverflow current structure. \n",
    "\n",
    "Youtube video-link: https://www.youtube.com/watch?v=BFAQCDr6Qvc&list=PLEsfXFp6DpzQjDBvhNy5YbaBx9j-ZsUe6&index=24"
   ]
  }
 ],
 "metadata": {
  "kernelspec": {
   "display_name": "Python 3 (ipykernel)",
   "language": "python",
   "name": "python3"
  },
  "language_info": {
   "codemirror_mode": {
    "name": "ipython",
    "version": 3
   },
   "file_extension": ".py",
   "mimetype": "text/x-python",
   "name": "python",
   "nbconvert_exporter": "python",
   "pygments_lexer": "ipython3",
   "version": "3.8.16"
  }
 },
 "nbformat": 4,
 "nbformat_minor": 2
}
